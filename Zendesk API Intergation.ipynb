{
 "cells": [
  {
   "cell_type": "code",
   "execution_count": 1,
   "metadata": {},
   "outputs": [],
   "source": [
    "import requests\n",
    "import json\n",
    "import time\n",
    "import pandas as pd\n",
    "from datetime import datetime\n",
    "import numpy as np\n",
    "from ratelimit import limits"
   ]
  },
  {
   "cell_type": "markdown",
   "metadata": {},
   "source": [
    "<font size=\"5\">ZENDESK</font>"
   ]
  },
  {
   "cell_type": "code",
   "execution_count": 2,
   "metadata": {},
   "outputs": [],
   "source": [
    "# Set the request parameters TICKET_IDs by DATE\n",
    "\n",
    "zendesk_raw_data = []\n",
    "\n",
    "def zendesk_limit():\n",
    "    url = 'https://YOUR_ZENDESK_DOMAIN.zendesk.com/api/v2/search.json?query=type%3Aticket+created%3A2020-07-01'\n",
    "    user = 'YOUR_EMAIL' + '/token' #you don't need to have your specific \"token\", it's just a value needed here as it was placed\n",
    "    pwd = 'YOUR_PASSWORD'\n",
    "    response = requests.get(url, auth=(user, pwd))\n",
    "    data = response.json()\n",
    "    zendesk_raw_data.append(data)\n",
    "    while zendesk_raw_data[-1].get('next_page') != None: #here we check if the last page of our final list contains value for \"next_page\", if it is - we continue to request data by changing the value of requested url\n",
    "        url_next_page = zendesk_raw_data[-1].get('next_page')\n",
    "        response_next = requests.get(url_next_page, auth=(user, pwd))\n",
    "        data_next = response_next.json()\n",
    "        zendesk_raw_data.append(data_next)\n",
    "    print(\"Download complete. Total number of pages: \" + str(len(zendesk_raw_data)))"
   ]
  },
  {
   "cell_type": "code",
   "execution_count": 3,
   "metadata": {},
   "outputs": [
    {
     "name": "stdout",
     "output_type": "stream",
     "text": [
      "Download complete. Total number of pages: 1\n"
     ]
    }
   ],
   "source": [
    "zendesk_limit()"
   ]
  },
  {
   "cell_type": "code",
   "execution_count": 4,
   "metadata": {},
   "outputs": [],
   "source": [
    "#Removes \"result\" value from each list\n",
    "\n",
    "zendesk_list_data = []\n",
    "\n",
    "for i in range(len(zendesk_raw_data)):\n",
    "    zendesk_list_data.append(list(zendesk_raw_data[i].values())[0])"
   ]
  },
  {
   "cell_type": "code",
   "execution_count": null,
   "metadata": {},
   "outputs": [],
   "source": [
    "#Creating dataframe for individual tickets + Date\n",
    "\n",
    "is_public = []\n",
    "ticket_id = []\n",
    "created_at = []\n",
    "submitter_id = []\n",
    "\n",
    "for i in range(len(zendesk_list_data)):\n",
    "    for z in range(len(zendesk_list_data[i])):\n",
    "        ticket_id.append(zendesk_list_data[i][z].get('id'))\n",
    "        created_at.append(zendesk_list_data[i][z].get('created_at'))\n",
    "        is_public.append(zendesk_list_data[i][z].get('is_public'))\n",
    "        submitter_id.append(zendesk_list_data[i][z].get('submitter_id'))\n",
    "        \n",
    "column_names_2 = [\"ticket_id\", \"created_at\", \"submitter_id\", \"is_public\", \"date\"]\n",
    "\n",
    "zendesk_ticket_by_date = pd.DataFrame(columns = column_names_2)\n",
    "\n",
    "zendesk_ticket_by_date[\"ticket_id\"] = ticket_id\n",
    "zendesk_ticket_by_date[\"created_at\"] = created_at\n",
    "zendesk_ticket_by_date[\"submitter_id\"] = submitter_id\n",
    "zendesk_ticket_by_date[\"is_public\"] = is_public"
   ]
  },
  {
   "cell_type": "code",
   "execution_count": null,
   "metadata": {},
   "outputs": [],
   "source": [
    "#Convert date columns to a DateTime format\n",
    "\n",
    "zendesk_ticket_by_date['created_at'] = pd.to_datetime(zendesk_ticket_by_date['created_at'])"
   ]
  },
  {
   "cell_type": "code",
   "execution_count": null,
   "metadata": {},
   "outputs": [],
   "source": [
    "#Creating Date column from API data in a clean format, like: 2020-07-09\n",
    "\n",
    "def date_convertion_zen(row):\n",
    "    try:\n",
    "        new_date = datetime.strftime(row, '%Y-%m-%d')\n",
    "        return new_date\n",
    "    except ValueError:\n",
    "        return None\n",
    "\n",
    "zendesk_ticket_by_date['date'] = zendesk_ticket_by_date['created_at'].apply(lambda row: date_convertion_zen(row))\n",
    "\n",
    "#It's not required too much, it was done to make sure that data in dataframe has the same format as column data type in SQL database\n",
    "\n",
    "zendesk_ticket_by_date['date'] = pd.to_datetime(zendesk_ticket_by_date['date'])"
   ]
  },
  {
   "cell_type": "code",
   "execution_count": null,
   "metadata": {},
   "outputs": [],
   "source": [
    "#Sort df by Ticket_id column\n",
    "\n",
    "zendesk_ticket_by_date = zendesk_ticket_by_date.sort_values(by=['ticket_id'])"
   ]
  },
  {
   "cell_type": "code",
   "execution_count": null,
   "metadata": {},
   "outputs": [],
   "source": [
    "# Important step - we are creating list of all tickets ID for selected date. \n",
    "# Next we'll getting new data from Zendesk for each ID from this list.\n",
    "\n",
    "tickets_id_list = zendesk_ticket_by_date['ticket_id'].tolist()"
   ]
  },
  {
   "cell_type": "code",
   "execution_count": null,
   "metadata": {},
   "outputs": [],
   "source": [
    "# Just check how many records we will have for selected date\n",
    "\n",
    "print(len(tickets_id_list))"
   ]
  },
  {
   "cell_type": "code",
   "execution_count": null,
   "metadata": {},
   "outputs": [],
   "source": [
    "#Get metric_data for each ticket by ID from previous step\n",
    "#Set limit for API requests (in this case 300 requests per 1 min) \n",
    "\n",
    "zendesk_tickets_metric_raw = []\n",
    "\n",
    "One_minute = 60\n",
    "\n",
    "@limits(calls=300, period = One_minute)\n",
    "def zendesk_ticket_metric():\n",
    "    user = 'YOUR_EMAIL' + '/token'\n",
    "    pwd = 'YOUR_PASSWORD'\n",
    "    for d in tickets_id_list:\n",
    "        url = 'https://YOUR_ZENDESK_DOMAIN.zendesk.com/api/v2/tickets/' + str(d) + '/metrics.json'\n",
    "        response = requests.get(url, auth=(user, pwd))\n",
    "        data_ticket = response.json()\n",
    "        zendesk_tickets_metric_raw.append(data_ticket)\n",
    "    print(\"Download complete. Total number of pages: \" + str(len(zendesk_tickets_metric_raw)))"
   ]
  },
  {
   "cell_type": "code",
   "execution_count": null,
   "metadata": {},
   "outputs": [],
   "source": [
    "zendesk_ticket_metric()"
   ]
  },
  {
   "cell_type": "code",
   "execution_count": null,
   "metadata": {},
   "outputs": [],
   "source": [
    "#Removes \"result\" value from each list\n",
    "\n",
    "zendesk_ticket_metric_clean = []\n",
    "\n",
    "for i in range(len(zendesk_tickets_metric_raw)):\n",
    "    zendesk_ticket_metric_clean.append(list(zendesk_tickets_metric_raw[i].values())[0])"
   ]
  },
  {
   "cell_type": "code",
   "execution_count": null,
   "metadata": {},
   "outputs": [],
   "source": [
    "#Creating dataframe for individual ticket + Time_replies\n",
    "\n",
    "metric_id = []\n",
    "ticket_id = []\n",
    "created_at = []\n",
    "solved_at = []\n",
    "reply_time_in_minutes = []\n",
    "first_resolution_time_in_minutes = []\n",
    "requester_wait_time_in_minutes = []\n",
    "\n",
    "for i in range(len(zendesk_ticket_metric_clean)):\n",
    "    metric_id.append(zendesk_ticket_metric_clean[i].get('id'))\n",
    "    ticket_id.append(zendesk_ticket_metric_clean[i].get('ticket_id'))\n",
    "    created_at.append(zendesk_ticket_metric_clean[i].get('created_at'))\n",
    "    solved_at.append(zendesk_ticket_metric_clean[i].get('solved_at'))\n",
    "    reply_time_in_minutes.append(zendesk_ticket_metric_clean[i].get('reply_time_in_minutes').get('calendar'))\n",
    "    first_resolution_time_in_minutes.append(zendesk_ticket_metric_clean[i].get('first_resolution_time_in_minutes').get('calendar'))\n",
    "    requester_wait_time_in_minutes.append(zendesk_ticket_metric_clean[i].get('requester_wait_time_in_minutes').get('calendar'))  \n",
    "\n",
    "\n",
    "column_names_3 = [\"metric_id\", \"ticket_id\", \"created_at\", \"solved_at\", \"reply_time_in_minutes\", \"first_resolution_time_in_minutes\", \"requester_wait_time_in_minutes\"]\n",
    "\n",
    "zendesk_data_ticket_metric = pd.DataFrame(columns = column_names_3)\n",
    "\n",
    "zendesk_data_ticket_metric[\"metric_id\"] = metric_id\n",
    "zendesk_data_ticket_metric[\"ticket_id\"] = ticket_id\n",
    "zendesk_data_ticket_metric[\"created_at\"] = created_at\n",
    "zendesk_data_ticket_metric[\"solved_at\"] = solved_at\n",
    "zendesk_data_ticket_metric[\"reply_time_in_minutes\"] = reply_time_in_minutes\n",
    "zendesk_data_ticket_metric[\"first_resolution_time_in_minutes\"] = first_resolution_time_in_minutes\n",
    "zendesk_data_ticket_metric[\"requester_wait_time_in_minutes\"] = requester_wait_time_in_minutes"
   ]
  },
  {
   "cell_type": "code",
   "execution_count": null,
   "metadata": {},
   "outputs": [],
   "source": [
    "#Sort df_metric by Ticket_id column\n",
    "\n",
    "zendesk_data_ticket_metric = zendesk_data_ticket_metric.sort_values(by=['ticket_id'])"
   ]
  },
  {
   "cell_type": "code",
   "execution_count": null,
   "metadata": {},
   "outputs": [],
   "source": [
    "#Merging two dataframes: Tickets by selected Date + Tickets metric\n",
    "\n",
    "final_zendesk = pd.merge(zendesk_ticket_by_date, zendesk_data_ticket_metric, on='ticket_id')"
   ]
  },
  {
   "cell_type": "code",
   "execution_count": null,
   "metadata": {},
   "outputs": [],
   "source": [
    "#Some final dataframe cleaning\n",
    "\n",
    "final_zendesk.drop(columns=[\"created_at_x\"], inplace=True)\n",
    "final_zendesk.rename(columns={'created_at_y':'created_at'}, inplace=True)\n",
    "final_zendesk[\"reply_time_in_minutes\"] = final_zendesk[\"reply_time_in_minutes\"].fillna(0)\n",
    "final_zendesk[\"reply_time_in_minutes\"] = final_zendesk[\"reply_time_in_minutes\"].astype('int64')\n",
    "final_zendesk['date'] = pd.to_datetime(final_zendesk['date'])\n",
    "final_zendesk['created_at'] = pd.to_datetime(final_zendesk['created_at'])\n",
    "final_zendesk['solved_at'] = pd.to_datetime(final_zendesk['solved_at'])"
   ]
  },
  {
   "cell_type": "code",
   "execution_count": null,
   "metadata": {},
   "outputs": [],
   "source": [
    "#Reshaping columns in needed order\n",
    "\n",
    "final_df_columns = ['ticket_id', 'metric_id', 'submitter_id', 'is_public', 'reply_time_in_minutes', 'first_resolution_time_in_minutes',\n",
    "                    'requester_wait_time_in_minutes', 'created_at', 'solved_at', 'date']\n",
    "final_zendesk = final_zendesk[final_df_columns]"
   ]
  },
  {
   "cell_type": "code",
   "execution_count": null,
   "metadata": {},
   "outputs": [],
   "source": [
    "#Save results in CSV format\n",
    "\n",
    "final_zendesk.to_csv(\"Ticket_list_metric.csv\", index=False)"
   ]
  }
 ],
 "metadata": {
  "kernelspec": {
   "display_name": "Python 3",
   "language": "python",
   "name": "python3"
  },
  "language_info": {
   "codemirror_mode": {
    "name": "ipython",
    "version": 3
   },
   "file_extension": ".py",
   "mimetype": "text/x-python",
   "name": "python",
   "nbconvert_exporter": "python",
   "pygments_lexer": "ipython3",
   "version": "3.7.4"
  }
 },
 "nbformat": 4,
 "nbformat_minor": 2
}
